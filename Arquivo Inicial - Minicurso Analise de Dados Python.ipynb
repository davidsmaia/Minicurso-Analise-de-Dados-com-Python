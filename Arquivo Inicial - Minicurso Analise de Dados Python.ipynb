{
 "cells": [
  {
   "cell_type": "markdown",
   "metadata": {
    "id": "A4VwUp4-f8KN"
   },
   "source": [
    "# Desafio: \n",
    "\n",
    "Você trabalha em uma grande empresa de Cartão de Crédito e o diretor da empresa percebeu que o número de clientes que cancelam seus cartões tem aumentado significativamente, causando prejuízos enormes para a empresa\n",
    "\n",
    "O que fazer para evitar isso? Como saber as pessoas que têm maior tendência a cancelar o cartão?\n",
    "\n",
    "# O que temos:\n",
    "\n",
    "Temos 1 base de dados com informações dos clientes, tanto clientes atuais quanto clientes que cancelaram o cartão\n",
    "\n",
    "Download da Base de Dados: Botão na página\n",
    "\n",
    "Referência: https://www.kaggle.com/sakshigoyal7/credit-card-customers"
   ]
  }
 ],
 "metadata": {
  "colab": {
   "collapsed_sections": [],
   "name": "Cópia de Arquivo Inicial - Minicurso Analise de Dados Python.ipynb",
   "provenance": [
    {
     "file_id": "1A-7jQSYOwcRRW0BwZShVzIrwzyrIWbG3",
     "timestamp": 1615494457744
    },
    {
     "file_id": "170YyeIm07RmoENAnv3IQMYWHmmhnHxjP",
     "timestamp": 1615468433048
    }
   ],
   "toc_visible": true
  },
  "kernelspec": {
   "display_name": "Python 3",
   "name": "python3"
  }
 },
 "nbformat": 4,
 "nbformat_minor": 0
}
